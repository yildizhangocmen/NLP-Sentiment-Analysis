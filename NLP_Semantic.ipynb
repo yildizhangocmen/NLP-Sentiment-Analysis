{
  "nbformat": 4,
  "nbformat_minor": 0,
  "metadata": {
    "colab": {
      "name": "NLP_Semantic",
      "provenance": []
    },
    "kernelspec": {
      "name": "python3",
      "display_name": "Python 3"
    },
    "accelerator": "GPU"
  },
  "cells": [
    {
      "cell_type": "code",
      "metadata": {
        "id": "SIqJaLViKFkQ",
        "outputId": "fd272072-6093-4af3-af73-1cf1f01fc57c",
        "colab": {
          "base_uri": "https://localhost:8080/",
          "height": 1000
        }
      },
      "source": [
        "\n",
        "import numpy as np \n",
        "import pandas as pd\n",
        "import re\n",
        "import nltk\n",
        "import matplotlib.pyplot as plt \n",
        "%matplotlib inline\n",
        "import seaborn as sns\n",
        "from nltk.corpus import stopwords\n",
        "nltk.download()\n",
        "nltk.download('stopwords')\n",
        "stopwords.words('english')"
      ],
      "execution_count": 2,
      "outputs": [
        {
          "output_type": "stream",
          "text": [
            "NLTK Downloader\n",
            "---------------------------------------------------------------------------\n",
            "    d) Download   l) List    u) Update   c) Config   h) Help   q) Quit\n",
            "---------------------------------------------------------------------------\n",
            "Downloader> d\n",
            "\n",
            "Download which package (l=list; x=cancel)?\n",
            "  Identifier> q\n",
            "\n",
            "---------------------------------------------------------------------------\n",
            "    d) Download   l) List    u) Update   c) Config   h) Help   q) Quit\n",
            "---------------------------------------------------------------------------\n",
            "Downloader> x\n",
            "[nltk_data] Downloading package stopwords to /root/nltk_data...\n",
            "[nltk_data]   Package stopwords is already up-to-date!\n"
          ],
          "name": "stdout"
        },
        {
          "output_type": "execute_result",
          "data": {
            "text/plain": [
              "['i',\n",
              " 'me',\n",
              " 'my',\n",
              " 'myself',\n",
              " 'we',\n",
              " 'our',\n",
              " 'ours',\n",
              " 'ourselves',\n",
              " 'you',\n",
              " \"you're\",\n",
              " \"you've\",\n",
              " \"you'll\",\n",
              " \"you'd\",\n",
              " 'your',\n",
              " 'yours',\n",
              " 'yourself',\n",
              " 'yourselves',\n",
              " 'he',\n",
              " 'him',\n",
              " 'his',\n",
              " 'himself',\n",
              " 'she',\n",
              " \"she's\",\n",
              " 'her',\n",
              " 'hers',\n",
              " 'herself',\n",
              " 'it',\n",
              " \"it's\",\n",
              " 'its',\n",
              " 'itself',\n",
              " 'they',\n",
              " 'them',\n",
              " 'their',\n",
              " 'theirs',\n",
              " 'themselves',\n",
              " 'what',\n",
              " 'which',\n",
              " 'who',\n",
              " 'whom',\n",
              " 'this',\n",
              " 'that',\n",
              " \"that'll\",\n",
              " 'these',\n",
              " 'those',\n",
              " 'am',\n",
              " 'is',\n",
              " 'are',\n",
              " 'was',\n",
              " 'were',\n",
              " 'be',\n",
              " 'been',\n",
              " 'being',\n",
              " 'have',\n",
              " 'has',\n",
              " 'had',\n",
              " 'having',\n",
              " 'do',\n",
              " 'does',\n",
              " 'did',\n",
              " 'doing',\n",
              " 'a',\n",
              " 'an',\n",
              " 'the',\n",
              " 'and',\n",
              " 'but',\n",
              " 'if',\n",
              " 'or',\n",
              " 'because',\n",
              " 'as',\n",
              " 'until',\n",
              " 'while',\n",
              " 'of',\n",
              " 'at',\n",
              " 'by',\n",
              " 'for',\n",
              " 'with',\n",
              " 'about',\n",
              " 'against',\n",
              " 'between',\n",
              " 'into',\n",
              " 'through',\n",
              " 'during',\n",
              " 'before',\n",
              " 'after',\n",
              " 'above',\n",
              " 'below',\n",
              " 'to',\n",
              " 'from',\n",
              " 'up',\n",
              " 'down',\n",
              " 'in',\n",
              " 'out',\n",
              " 'on',\n",
              " 'off',\n",
              " 'over',\n",
              " 'under',\n",
              " 'again',\n",
              " 'further',\n",
              " 'then',\n",
              " 'once',\n",
              " 'here',\n",
              " 'there',\n",
              " 'when',\n",
              " 'where',\n",
              " 'why',\n",
              " 'how',\n",
              " 'all',\n",
              " 'any',\n",
              " 'both',\n",
              " 'each',\n",
              " 'few',\n",
              " 'more',\n",
              " 'most',\n",
              " 'other',\n",
              " 'some',\n",
              " 'such',\n",
              " 'no',\n",
              " 'nor',\n",
              " 'not',\n",
              " 'only',\n",
              " 'own',\n",
              " 'same',\n",
              " 'so',\n",
              " 'than',\n",
              " 'too',\n",
              " 'very',\n",
              " 's',\n",
              " 't',\n",
              " 'can',\n",
              " 'will',\n",
              " 'just',\n",
              " 'don',\n",
              " \"don't\",\n",
              " 'should',\n",
              " \"should've\",\n",
              " 'now',\n",
              " 'd',\n",
              " 'll',\n",
              " 'm',\n",
              " 'o',\n",
              " 're',\n",
              " 've',\n",
              " 'y',\n",
              " 'ain',\n",
              " 'aren',\n",
              " \"aren't\",\n",
              " 'couldn',\n",
              " \"couldn't\",\n",
              " 'didn',\n",
              " \"didn't\",\n",
              " 'doesn',\n",
              " \"doesn't\",\n",
              " 'hadn',\n",
              " \"hadn't\",\n",
              " 'hasn',\n",
              " \"hasn't\",\n",
              " 'haven',\n",
              " \"haven't\",\n",
              " 'isn',\n",
              " \"isn't\",\n",
              " 'ma',\n",
              " 'mightn',\n",
              " \"mightn't\",\n",
              " 'mustn',\n",
              " \"mustn't\",\n",
              " 'needn',\n",
              " \"needn't\",\n",
              " 'shan',\n",
              " \"shan't\",\n",
              " 'shouldn',\n",
              " \"shouldn't\",\n",
              " 'wasn',\n",
              " \"wasn't\",\n",
              " 'weren',\n",
              " \"weren't\",\n",
              " 'won',\n",
              " \"won't\",\n",
              " 'wouldn',\n",
              " \"wouldn't\"]"
            ]
          },
          "metadata": {
            "tags": []
          },
          "execution_count": 2
        }
      ]
    },
    {
      "cell_type": "markdown",
      "metadata": {
        "id": "S-IApSqKl21a"
      },
      "source": [
        "# **Problem**"
      ]
    },
    {
      "cell_type": "markdown",
      "metadata": {
        "id": "QgG3-4Utl7tL"
      },
      "source": [
        "AAPL, @apple etc. A look at the thought about Apple based on the containing tweets. Contributors were given a tweet and asked if the user was positive, negative or neutral about Apple. (They were also allowed to flag it as \"the tweet is not related to Apple, Inc.\")\n",
        "\n",
        "* Data [Link](https://www.crowdflower.com/data-for-everyone/)\n",
        "\n",
        "\n"
      ]
    },
    {
      "cell_type": "markdown",
      "metadata": {
        "id": "fGBqlsE1twtf"
      },
      "source": [
        "**Emotion Expressions consist of (1,3,5).**\n",
        "\n",
        "* 1 : negative\n",
        "* 3 : neutral\n",
        "* 5 : positive\n",
        "* not_relevant "
      ]
    },
    {
      "cell_type": "code",
      "metadata": {
        "id": "l9ycUif3owWL"
      },
      "source": [
        "apple = pd.read_csv(\"/content/Apple-Twitter-Sentiment-DFE.csv\", encoding = \"latin-1\")"
      ],
      "execution_count": 3,
      "outputs": []
    },
    {
      "cell_type": "code",
      "metadata": {
        "id": "8URT8Dqz-4j3",
        "outputId": "62e33ce5-4539-424d-84ca-04bb8ce893e8",
        "colab": {
          "base_uri": "https://localhost:8080/",
          "height": 1000
        }
      },
      "source": [
        "display(apple)"
      ],
      "execution_count": 4,
      "outputs": [
        {
          "output_type": "display_data",
          "data": {
            "text/html": [
              "<div>\n",
              "<style scoped>\n",
              "    .dataframe tbody tr th:only-of-type {\n",
              "        vertical-align: middle;\n",
              "    }\n",
              "\n",
              "    .dataframe tbody tr th {\n",
              "        vertical-align: top;\n",
              "    }\n",
              "\n",
              "    .dataframe thead th {\n",
              "        text-align: right;\n",
              "    }\n",
              "</style>\n",
              "<table border=\"1\" class=\"dataframe\">\n",
              "  <thead>\n",
              "    <tr style=\"text-align: right;\">\n",
              "      <th></th>\n",
              "      <th>_unit_id</th>\n",
              "      <th>_golden</th>\n",
              "      <th>_unit_state</th>\n",
              "      <th>_trusted_judgments</th>\n",
              "      <th>_last_judgment_at</th>\n",
              "      <th>sentiment</th>\n",
              "      <th>sentiment:confidence</th>\n",
              "      <th>date</th>\n",
              "      <th>id</th>\n",
              "      <th>query</th>\n",
              "      <th>sentiment_gold</th>\n",
              "      <th>text</th>\n",
              "    </tr>\n",
              "  </thead>\n",
              "  <tbody>\n",
              "    <tr>\n",
              "      <th>0</th>\n",
              "      <td>623495513</td>\n",
              "      <td>True</td>\n",
              "      <td>golden</td>\n",
              "      <td>10</td>\n",
              "      <td>NaN</td>\n",
              "      <td>3</td>\n",
              "      <td>0.6264</td>\n",
              "      <td>Mon Dec 01 19:30:03 +0000 2014</td>\n",
              "      <td>5.400000e+17</td>\n",
              "      <td>#AAPL OR @Apple</td>\n",
              "      <td>3\\nnot_relevant</td>\n",
              "      <td>#AAPL:The 10 best Steve Jobs emails ever...htt...</td>\n",
              "    </tr>\n",
              "    <tr>\n",
              "      <th>1</th>\n",
              "      <td>623495514</td>\n",
              "      <td>True</td>\n",
              "      <td>golden</td>\n",
              "      <td>12</td>\n",
              "      <td>NaN</td>\n",
              "      <td>3</td>\n",
              "      <td>0.8129</td>\n",
              "      <td>Mon Dec 01 19:43:51 +0000 2014</td>\n",
              "      <td>5.400000e+17</td>\n",
              "      <td>#AAPL OR @Apple</td>\n",
              "      <td>3\\n1</td>\n",
              "      <td>RT @JPDesloges: Why AAPL Stock Had a Mini-Flas...</td>\n",
              "    </tr>\n",
              "    <tr>\n",
              "      <th>2</th>\n",
              "      <td>623495515</td>\n",
              "      <td>True</td>\n",
              "      <td>golden</td>\n",
              "      <td>10</td>\n",
              "      <td>NaN</td>\n",
              "      <td>3</td>\n",
              "      <td>1.0000</td>\n",
              "      <td>Mon Dec 01 19:50:28 +0000 2014</td>\n",
              "      <td>5.400000e+17</td>\n",
              "      <td>#AAPL OR @Apple</td>\n",
              "      <td>3</td>\n",
              "      <td>My cat only chews @apple cords. Such an #Apple...</td>\n",
              "    </tr>\n",
              "    <tr>\n",
              "      <th>3</th>\n",
              "      <td>623495516</td>\n",
              "      <td>True</td>\n",
              "      <td>golden</td>\n",
              "      <td>17</td>\n",
              "      <td>NaN</td>\n",
              "      <td>3</td>\n",
              "      <td>0.5848</td>\n",
              "      <td>Mon Dec 01 20:26:34 +0000 2014</td>\n",
              "      <td>5.400000e+17</td>\n",
              "      <td>#AAPL OR @Apple</td>\n",
              "      <td>3\\n1</td>\n",
              "      <td>I agree with @jimcramer that the #IndividualIn...</td>\n",
              "    </tr>\n",
              "    <tr>\n",
              "      <th>4</th>\n",
              "      <td>623495517</td>\n",
              "      <td>False</td>\n",
              "      <td>finalized</td>\n",
              "      <td>3</td>\n",
              "      <td>12/12/14 12:14</td>\n",
              "      <td>3</td>\n",
              "      <td>0.6474</td>\n",
              "      <td>Mon Dec 01 20:29:33 +0000 2014</td>\n",
              "      <td>5.400000e+17</td>\n",
              "      <td>#AAPL OR @Apple</td>\n",
              "      <td>NaN</td>\n",
              "      <td>Nobody expects the Spanish Inquisition #AAPL</td>\n",
              "    </tr>\n",
              "    <tr>\n",
              "      <th>...</th>\n",
              "      <td>...</td>\n",
              "      <td>...</td>\n",
              "      <td>...</td>\n",
              "      <td>...</td>\n",
              "      <td>...</td>\n",
              "      <td>...</td>\n",
              "      <td>...</td>\n",
              "      <td>...</td>\n",
              "      <td>...</td>\n",
              "      <td>...</td>\n",
              "      <td>...</td>\n",
              "      <td>...</td>\n",
              "    </tr>\n",
              "    <tr>\n",
              "      <th>3881</th>\n",
              "      <td>623499442</td>\n",
              "      <td>True</td>\n",
              "      <td>golden</td>\n",
              "      <td>13</td>\n",
              "      <td>NaN</td>\n",
              "      <td>3</td>\n",
              "      <td>0.7757</td>\n",
              "      <td>Tue Dec 09 22:08:53 +0000 2014</td>\n",
              "      <td>5.420000e+17</td>\n",
              "      <td>#AAPL OR @Apple</td>\n",
              "      <td>5\\n3</td>\n",
              "      <td>(Via FC) Apple Is Warming Up To Social Media -...</td>\n",
              "    </tr>\n",
              "    <tr>\n",
              "      <th>3882</th>\n",
              "      <td>623499450</td>\n",
              "      <td>True</td>\n",
              "      <td>golden</td>\n",
              "      <td>16</td>\n",
              "      <td>NaN</td>\n",
              "      <td>3</td>\n",
              "      <td>0.6225</td>\n",
              "      <td>Tue Dec 09 22:18:27 +0000 2014</td>\n",
              "      <td>5.420000e+17</td>\n",
              "      <td>#AAPL OR @Apple</td>\n",
              "      <td>3\\n1</td>\n",
              "      <td>RT @MMLXIV: there is no avocado emoji may I as...</td>\n",
              "    </tr>\n",
              "    <tr>\n",
              "      <th>3883</th>\n",
              "      <td>623499486</td>\n",
              "      <td>True</td>\n",
              "      <td>golden</td>\n",
              "      <td>14</td>\n",
              "      <td>NaN</td>\n",
              "      <td>5</td>\n",
              "      <td>0.9347</td>\n",
              "      <td>Tue Dec 09 23:45:59 +0000 2014</td>\n",
              "      <td>5.420000e+17</td>\n",
              "      <td>#AAPL OR @Apple</td>\n",
              "      <td>5</td>\n",
              "      <td>@marcbulandr I could not agree more. Between @...</td>\n",
              "    </tr>\n",
              "    <tr>\n",
              "      <th>3884</th>\n",
              "      <td>623499514</td>\n",
              "      <td>True</td>\n",
              "      <td>golden</td>\n",
              "      <td>13</td>\n",
              "      <td>NaN</td>\n",
              "      <td>1</td>\n",
              "      <td>0.9230</td>\n",
              "      <td>Wed Dec 10 00:48:10 +0000 2014</td>\n",
              "      <td>5.420000e+17</td>\n",
              "      <td>#AAPL OR @Apple</td>\n",
              "      <td>1</td>\n",
              "      <td>My iPhone 5's photos are no longer downloading...</td>\n",
              "    </tr>\n",
              "    <tr>\n",
              "      <th>3885</th>\n",
              "      <td>623517290</td>\n",
              "      <td>True</td>\n",
              "      <td>golden</td>\n",
              "      <td>17</td>\n",
              "      <td>NaN</td>\n",
              "      <td>5</td>\n",
              "      <td>0.8938</td>\n",
              "      <td>Tue Dec 09 09:01:25 +0000 2014</td>\n",
              "      <td>5.420000e+17</td>\n",
              "      <td>#AAPL OR @Apple</td>\n",
              "      <td>5\\n3\\nnot_relevant</td>\n",
              "      <td>RT @SwiftKey: We're so excited to be named to ...</td>\n",
              "    </tr>\n",
              "  </tbody>\n",
              "</table>\n",
              "<p>3886 rows × 12 columns</p>\n",
              "</div>"
            ],
            "text/plain": [
              "       _unit_id  ...                                               text\n",
              "0     623495513  ...  #AAPL:The 10 best Steve Jobs emails ever...htt...\n",
              "1     623495514  ...  RT @JPDesloges: Why AAPL Stock Had a Mini-Flas...\n",
              "2     623495515  ...  My cat only chews @apple cords. Such an #Apple...\n",
              "3     623495516  ...  I agree with @jimcramer that the #IndividualIn...\n",
              "4     623495517  ...       Nobody expects the Spanish Inquisition #AAPL\n",
              "...         ...  ...                                                ...\n",
              "3881  623499442  ...  (Via FC) Apple Is Warming Up To Social Media -...\n",
              "3882  623499450  ...  RT @MMLXIV: there is no avocado emoji may I as...\n",
              "3883  623499486  ...  @marcbulandr I could not agree more. Between @...\n",
              "3884  623499514  ...  My iPhone 5's photos are no longer downloading...\n",
              "3885  623517290  ...  RT @SwiftKey: We're so excited to be named to ...\n",
              "\n",
              "[3886 rows x 12 columns]"
            ]
          },
          "metadata": {
            "tags": []
          }
        }
      ]
    },
    {
      "cell_type": "code",
      "metadata": {
        "id": "QCAkUZUPp57_",
        "outputId": "c177e406-3697-464e-da68-7abac5ed37fa",
        "colab": {
          "base_uri": "https://localhost:8080/",
          "height": 85
        }
      },
      "source": [
        "apple.columns\n"
      ],
      "execution_count": 5,
      "outputs": [
        {
          "output_type": "execute_result",
          "data": {
            "text/plain": [
              "Index(['_unit_id', '_golden', '_unit_state', '_trusted_judgments',\n",
              "       '_last_judgment_at', 'sentiment', 'sentiment:confidence', 'date', 'id',\n",
              "       'query', 'sentiment_gold', 'text'],\n",
              "      dtype='object')"
            ]
          },
          "metadata": {
            "tags": []
          },
          "execution_count": 5
        }
      ]
    },
    {
      "cell_type": "code",
      "metadata": {
        "id": "C0go7F0kp5-i",
        "outputId": "c08c2b6b-f9f6-4cef-af71-d00fd81b6fcd",
        "colab": {
          "base_uri": "https://localhost:8080/",
          "height": 34
        }
      },
      "source": [
        "apple.shape"
      ],
      "execution_count": 6,
      "outputs": [
        {
          "output_type": "execute_result",
          "data": {
            "text/plain": [
              "(3886, 12)"
            ]
          },
          "metadata": {
            "tags": []
          },
          "execution_count": 6
        }
      ]
    },
    {
      "cell_type": "markdown",
      "metadata": {
        "id": "9ryI8z779lvC"
      },
      "source": [
        "# **Missing Values**"
      ]
    },
    {
      "cell_type": "code",
      "metadata": {
        "id": "8CoKwBYA9zcg",
        "outputId": "9287f7c9-e6fb-4e40-ffb2-e45d8b068e58",
        "colab": {
          "base_uri": "https://localhost:8080/",
          "height": 238
        }
      },
      "source": [
        "apple.isnull().sum()"
      ],
      "execution_count": 7,
      "outputs": [
        {
          "output_type": "execute_result",
          "data": {
            "text/plain": [
              "_unit_id                   0\n",
              "_golden                    0\n",
              "_unit_state                0\n",
              "_trusted_judgments         0\n",
              "_last_judgment_at        103\n",
              "sentiment                  0\n",
              "sentiment:confidence       0\n",
              "date                       0\n",
              "id                         0\n",
              "query                      0\n",
              "sentiment_gold          3783\n",
              "text                       0\n",
              "dtype: int64"
            ]
          },
          "metadata": {
            "tags": []
          },
          "execution_count": 7
        }
      ]
    },
    {
      "cell_type": "code",
      "metadata": {
        "id": "GvMcAEm-6gUf",
        "outputId": "2ffc2c3c-928e-4259-a146-d055bd26d3d4",
        "colab": {
          "base_uri": "https://localhost:8080/",
          "height": 221
        }
      },
      "source": [
        "apple[\"query\"]"
      ],
      "execution_count": 8,
      "outputs": [
        {
          "output_type": "execute_result",
          "data": {
            "text/plain": [
              "0       #AAPL OR @Apple\n",
              "1       #AAPL OR @Apple\n",
              "2       #AAPL OR @Apple\n",
              "3       #AAPL OR @Apple\n",
              "4       #AAPL OR @Apple\n",
              "             ...       \n",
              "3881    #AAPL OR @Apple\n",
              "3882    #AAPL OR @Apple\n",
              "3883    #AAPL OR @Apple\n",
              "3884    #AAPL OR @Apple\n",
              "3885    #AAPL OR @Apple\n",
              "Name: query, Length: 3886, dtype: object"
            ]
          },
          "metadata": {
            "tags": []
          },
          "execution_count": 8
        }
      ]
    },
    {
      "cell_type": "code",
      "metadata": {
        "id": "wDwv0SZd-ywt",
        "outputId": "a26acff3-c70a-4d20-e198-7078f7291c39",
        "colab": {
          "base_uri": "https://localhost:8080/",
          "height": 878
        }
      },
      "source": [
        "apple.drop([\"_last_judgment_at\",\"id\",\"_unit_id\",\"date\"],axis= 1)"
      ],
      "execution_count": 9,
      "outputs": [
        {
          "output_type": "execute_result",
          "data": {
            "text/html": [
              "<div>\n",
              "<style scoped>\n",
              "    .dataframe tbody tr th:only-of-type {\n",
              "        vertical-align: middle;\n",
              "    }\n",
              "\n",
              "    .dataframe tbody tr th {\n",
              "        vertical-align: top;\n",
              "    }\n",
              "\n",
              "    .dataframe thead th {\n",
              "        text-align: right;\n",
              "    }\n",
              "</style>\n",
              "<table border=\"1\" class=\"dataframe\">\n",
              "  <thead>\n",
              "    <tr style=\"text-align: right;\">\n",
              "      <th></th>\n",
              "      <th>_golden</th>\n",
              "      <th>_unit_state</th>\n",
              "      <th>_trusted_judgments</th>\n",
              "      <th>sentiment</th>\n",
              "      <th>sentiment:confidence</th>\n",
              "      <th>query</th>\n",
              "      <th>sentiment_gold</th>\n",
              "      <th>text</th>\n",
              "    </tr>\n",
              "  </thead>\n",
              "  <tbody>\n",
              "    <tr>\n",
              "      <th>0</th>\n",
              "      <td>True</td>\n",
              "      <td>golden</td>\n",
              "      <td>10</td>\n",
              "      <td>3</td>\n",
              "      <td>0.6264</td>\n",
              "      <td>#AAPL OR @Apple</td>\n",
              "      <td>3\\nnot_relevant</td>\n",
              "      <td>#AAPL:The 10 best Steve Jobs emails ever...htt...</td>\n",
              "    </tr>\n",
              "    <tr>\n",
              "      <th>1</th>\n",
              "      <td>True</td>\n",
              "      <td>golden</td>\n",
              "      <td>12</td>\n",
              "      <td>3</td>\n",
              "      <td>0.8129</td>\n",
              "      <td>#AAPL OR @Apple</td>\n",
              "      <td>3\\n1</td>\n",
              "      <td>RT @JPDesloges: Why AAPL Stock Had a Mini-Flas...</td>\n",
              "    </tr>\n",
              "    <tr>\n",
              "      <th>2</th>\n",
              "      <td>True</td>\n",
              "      <td>golden</td>\n",
              "      <td>10</td>\n",
              "      <td>3</td>\n",
              "      <td>1.0000</td>\n",
              "      <td>#AAPL OR @Apple</td>\n",
              "      <td>3</td>\n",
              "      <td>My cat only chews @apple cords. Such an #Apple...</td>\n",
              "    </tr>\n",
              "    <tr>\n",
              "      <th>3</th>\n",
              "      <td>True</td>\n",
              "      <td>golden</td>\n",
              "      <td>17</td>\n",
              "      <td>3</td>\n",
              "      <td>0.5848</td>\n",
              "      <td>#AAPL OR @Apple</td>\n",
              "      <td>3\\n1</td>\n",
              "      <td>I agree with @jimcramer that the #IndividualIn...</td>\n",
              "    </tr>\n",
              "    <tr>\n",
              "      <th>4</th>\n",
              "      <td>False</td>\n",
              "      <td>finalized</td>\n",
              "      <td>3</td>\n",
              "      <td>3</td>\n",
              "      <td>0.6474</td>\n",
              "      <td>#AAPL OR @Apple</td>\n",
              "      <td>NaN</td>\n",
              "      <td>Nobody expects the Spanish Inquisition #AAPL</td>\n",
              "    </tr>\n",
              "    <tr>\n",
              "      <th>...</th>\n",
              "      <td>...</td>\n",
              "      <td>...</td>\n",
              "      <td>...</td>\n",
              "      <td>...</td>\n",
              "      <td>...</td>\n",
              "      <td>...</td>\n",
              "      <td>...</td>\n",
              "      <td>...</td>\n",
              "    </tr>\n",
              "    <tr>\n",
              "      <th>3881</th>\n",
              "      <td>True</td>\n",
              "      <td>golden</td>\n",
              "      <td>13</td>\n",
              "      <td>3</td>\n",
              "      <td>0.7757</td>\n",
              "      <td>#AAPL OR @Apple</td>\n",
              "      <td>5\\n3</td>\n",
              "      <td>(Via FC) Apple Is Warming Up To Social Media -...</td>\n",
              "    </tr>\n",
              "    <tr>\n",
              "      <th>3882</th>\n",
              "      <td>True</td>\n",
              "      <td>golden</td>\n",
              "      <td>16</td>\n",
              "      <td>3</td>\n",
              "      <td>0.6225</td>\n",
              "      <td>#AAPL OR @Apple</td>\n",
              "      <td>3\\n1</td>\n",
              "      <td>RT @MMLXIV: there is no avocado emoji may I as...</td>\n",
              "    </tr>\n",
              "    <tr>\n",
              "      <th>3883</th>\n",
              "      <td>True</td>\n",
              "      <td>golden</td>\n",
              "      <td>14</td>\n",
              "      <td>5</td>\n",
              "      <td>0.9347</td>\n",
              "      <td>#AAPL OR @Apple</td>\n",
              "      <td>5</td>\n",
              "      <td>@marcbulandr I could not agree more. Between @...</td>\n",
              "    </tr>\n",
              "    <tr>\n",
              "      <th>3884</th>\n",
              "      <td>True</td>\n",
              "      <td>golden</td>\n",
              "      <td>13</td>\n",
              "      <td>1</td>\n",
              "      <td>0.9230</td>\n",
              "      <td>#AAPL OR @Apple</td>\n",
              "      <td>1</td>\n",
              "      <td>My iPhone 5's photos are no longer downloading...</td>\n",
              "    </tr>\n",
              "    <tr>\n",
              "      <th>3885</th>\n",
              "      <td>True</td>\n",
              "      <td>golden</td>\n",
              "      <td>17</td>\n",
              "      <td>5</td>\n",
              "      <td>0.8938</td>\n",
              "      <td>#AAPL OR @Apple</td>\n",
              "      <td>5\\n3\\nnot_relevant</td>\n",
              "      <td>RT @SwiftKey: We're so excited to be named to ...</td>\n",
              "    </tr>\n",
              "  </tbody>\n",
              "</table>\n",
              "<p>3886 rows × 8 columns</p>\n",
              "</div>"
            ],
            "text/plain": [
              "      _golden  ...                                               text\n",
              "0        True  ...  #AAPL:The 10 best Steve Jobs emails ever...htt...\n",
              "1        True  ...  RT @JPDesloges: Why AAPL Stock Had a Mini-Flas...\n",
              "2        True  ...  My cat only chews @apple cords. Such an #Apple...\n",
              "3        True  ...  I agree with @jimcramer that the #IndividualIn...\n",
              "4       False  ...       Nobody expects the Spanish Inquisition #AAPL\n",
              "...       ...  ...                                                ...\n",
              "3881     True  ...  (Via FC) Apple Is Warming Up To Social Media -...\n",
              "3882     True  ...  RT @MMLXIV: there is no avocado emoji may I as...\n",
              "3883     True  ...  @marcbulandr I could not agree more. Between @...\n",
              "3884     True  ...  My iPhone 5's photos are no longer downloading...\n",
              "3885     True  ...  RT @SwiftKey: We're so excited to be named to ...\n",
              "\n",
              "[3886 rows x 8 columns]"
            ]
          },
          "metadata": {
            "tags": []
          },
          "execution_count": 9
        }
      ]
    },
    {
      "cell_type": "code",
      "metadata": {
        "id": "VqHQhKBcjAiZ",
        "outputId": "2c5e88f9-8e6c-492c-f31b-e1b4644a048c",
        "colab": {
          "base_uri": "https://localhost:8080/",
          "height": 102
        }
      },
      "source": [
        "apple.sentiment.value_counts()"
      ],
      "execution_count": 25,
      "outputs": [
        {
          "output_type": "execute_result",
          "data": {
            "text/plain": [
              "3               2162\n",
              "1               1219\n",
              "5                423\n",
              "not_relevant      82\n",
              "Name: sentiment, dtype: int64"
            ]
          },
          "metadata": {
            "tags": []
          },
          "execution_count": 25
        }
      ]
    },
    {
      "cell_type": "markdown",
      "metadata": {
        "id": "jenZTX7InuBl"
      },
      "source": [
        "# **Data Visualization**"
      ]
    },
    {
      "cell_type": "code",
      "metadata": {
        "id": "IAQtEAU7qoBv",
        "outputId": "aee0818c-976f-438c-f9a1-d69383d9b530",
        "colab": {
          "base_uri": "https://localhost:8080/",
          "height": 333
        }
      },
      "source": [
        "sentiment =apple.groupby(['sentiment_gold', 'sentiment']).sentiment.count().unstack()\n",
        "sentiment.plot(kind='bar')\n",
        "plt.show()"
      ],
      "execution_count": 10,
      "outputs": [
        {
          "output_type": "display_data",
          "data": {
            "image/png": "[encoded data removed]",
            "text/plain": [
              "<Figure size 432x288 with 1 Axes>"
            ]
          },
          "metadata": {
            "tags": [],
            "needs_background": "light"
          }
        }
      ]
    },
    {
      "cell_type": "code",
      "metadata": {
        "id": "OnNC9x_PuA9H",
        "outputId": "01ac101b-e5ab-4d2b-e2dd-d39ec393a80c",
        "colab": {
          "base_uri": "https://localhost:8080/",
          "height": 248
        }
      },
      "source": [
        "apple.sentiment.value_counts().plot(kind='pie', autopct='%1.0f%%')\n",
        "plt.show()"
      ],
      "execution_count": 11,
      "outputs": [
        {
          "output_type": "display_data",
          "data": {
            "image/png": "[encoded data removed]",
            "text/plain": [
              "<Figure size 432x288 with 1 Axes>"
            ]
          },
          "metadata": {
            "tags": []
          }
        }
      ]
    },
    {
      "cell_type": "code",
      "metadata": {
        "id": "oxr3zICFuWhW",
        "outputId": "1ef143c1-5e9f-4af6-aef8-1a82172b2e6c",
        "colab": {
          "base_uri": "https://localhost:8080/",
          "height": 280
        }
      },
      "source": [
        "import seaborn as sns\n",
        "sns.barplot(x='sentiment', y='sentiment:confidence' , data= apple)\n",
        "plt.show()"
      ],
      "execution_count": 12,
      "outputs": [
        {
          "output_type": "display_data",
          "data": {
            "image/png": "[encoded data removed]",
            "text/plain": [
              "<Figure size 432x288 with 1 Axes>"
            ]
          },
          "metadata": {
            "tags": [],
            "needs_background": "light"
          }
        }
      ]
    },
    {
      "cell_type": "markdown",
      "metadata": {
        "id": "eycmux9uwpwe"
      },
      "source": [
        "# **Features**"
      ]
    },
    {
      "cell_type": "markdown",
      "metadata": {
        "id": "nn_83czwwp43"
      },
      "source": [
        "The feature set will only consist of tweets."
      ]
    },
    {
      "cell_type": "code",
      "metadata": {
        "id": "RPAGterOuWkh"
      },
      "source": [
        "features = apple.iloc[:, 11].values\n",
        "labels = apple.iloc[:, 1].values"
      ],
      "execution_count": 13,
      "outputs": []
    },
    {
      "cell_type": "code",
      "metadata": {
        "id": "ESChzLbm-ymC",
        "outputId": "6e854013-2c38-4ff5-d184-c602c25149ae",
        "colab": {
          "base_uri": "https://localhost:8080/",
          "height": 34
        }
      },
      "source": [
        "print(labels)"
      ],
      "execution_count": 14,
      "outputs": [
        {
          "output_type": "stream",
          "text": [
            "[ True  True  True ...  True  True  True]\n"
          ],
          "name": "stdout"
        }
      ]
    },
    {
      "cell_type": "code",
      "metadata": {
        "id": "2QG3OZJwuWnR"
      },
      "source": [
        "processed_features = []\n",
        "\n",
        "for sentence in range(0, len(features)):\n",
        "    # Remove all the special characters\n",
        "    processed_feature = re.sub(r'\\W', ' ', str(features[sentence]))\n",
        "\n",
        "    # remove all single characters\n",
        "    processed_feature= re.sub(r'\\s+[a-zA-Z]\\s+', ' ', processed_feature)\n",
        "\n",
        "    # Remove single characters from the start\n",
        "    processed_feature = re.sub(r'\\^[a-zA-Z]\\s+', ' ', processed_feature) \n",
        "\n",
        "    # Substituting multiple spaces with single space\n",
        "    processed_feature = re.sub(r'\\s+', ' ', processed_feature, flags=re.I)\n",
        "\n",
        "    # Removing prefixed 'b'\n",
        "    processed_feature = re.sub(r'^b\\s+', '', processed_feature)\n",
        "\n",
        "    # Converting to Lowercase\n",
        "    processed_feature = processed_feature.lower()\n",
        "\n",
        "    processed_features.append(processed_feature)"
      ],
      "execution_count": 15,
      "outputs": []
    },
    {
      "cell_type": "markdown",
      "metadata": {
        "id": "H7CNVx1JEU5R"
      },
      "source": [
        "# **Showing Text in Numerical Format**"
      ]
    },
    {
      "cell_type": "markdown",
      "metadata": {
        "id": "8LwSwdvqEtFr"
      },
      "source": [
        "Statistical algorithms use mathematics to train machine learning models. But math only works with numbers. To make statistical algorithms work with text, we first need to convert text to numbers. There are three main approaches to doing this: Word Bag, TF-IDF, and Word2Vec. In this section, we will use the word bag and the TF-IDF scheme."
      ]
    },
    {
      "cell_type": "markdown",
      "metadata": {
        "id": "eOe9ckylE-R3"
      },
      "source": [
        "**Word Bag**\n",
        "\n",
        "A bag word scheme is the simplest way to convert text to numbers.For example, you have three documents :\n",
        "Doc1 = \"I like to play basketball\", Doc2 = \"it is good game\",\n",
        "Doc3 = \"I prefer basketball to tennis\"\n",
        "\n",
        "The first step in the word bag approach is to build a vocabulary of all unique words. Our vocabulary for the three documents above would be:"
      ]
    },
    {
      "cell_type": "code",
      "metadata": {
        "id": "fvnirDssygXu"
      },
      "source": [
        "Vocab = [\"I, like, to, play, basketball, it,ıs, a, good, game, prefer, over, tennis\"]"
      ],
      "execution_count": 17,
      "outputs": []
    },
    {
      "cell_type": "markdown",
      "metadata": {
        "id": "FbclM_yMGndQ"
      },
      "source": [
        "The next step is to use the vocabulary to convert each document into a feature vector. The length of each feature vector is equal to the length of the vocabulary. The frequency of the word in the document will replace the actual word in the vocabulary. If a word in the vocabulary is not found in the corresponding document, the document feature vector will be zero in that place. For example, the property vector for Doc1 will look like this."
      ]
    },
    {
      "cell_type": "code",
      "metadata": {
        "id": "r0PwNeuWyod3",
        "outputId": "f874ca3f-8643-43f8-bcdb-5d82694e1705",
        "colab": {
          "base_uri": "https://localhost:8080/",
          "height": 34
        }
      },
      "source": [
        "[1, 1, 1, 1, 1, 0, 0, 0, 0, 0, 0, 0, 0]"
      ],
      "execution_count": 18,
      "outputs": [
        {
          "output_type": "execute_result",
          "data": {
            "text/plain": [
              "[1, 1, 1, 1, 1, 0, 0, 0, 0, 0, 0, 0, 0]"
            ]
          },
          "metadata": {
            "tags": []
          },
          "execution_count": 18
        }
      ]
    },
    {
      "cell_type": "markdown",
      "metadata": {
        "id": "QiQACxsiG2lO"
      },
      "source": [
        ">In the TF-IDF Word bag approach, each word has the same weight. The idea behind the TF-IDF approach is that fewer words in all documents and more in individual documents contribute more to the classification.\n",
        "\n",
        ">TF-IDF is a combination of two terms. Term frequency and Reverse Document frequency. They can be calculated as follows:"
      ]
    },
    {
      "cell_type": "markdown",
      "metadata": {
        "id": "Lc3Lsvr1WvGQ"
      },
      "source": [
        "> TF= (Frequency of a word in the document) /(Total words in the document)\n",
        "\n",
        "> IDF= Log((Total number of docs)/(Number of docs containing the word))"
      ]
    },
    {
      "cell_type": "markdown",
      "metadata": {
        "id": "E5qd-X97G48v"
      },
      "source": [
        ">TF-IDF using the Scikit-Learn Library To our luck, Python's Scikit-Learn library contains the class that can be used to convert TfidfVectorizermet's properties to TF-IDF property vectors. The following script does this:"
      ]
    },
    {
      "cell_type": "code",
      "metadata": {
        "id": "Pb8Bh0vxyjPF"
      },
      "source": [
        "from nltk.corpus import stopwords\n",
        "from sklearn.feature_extraction.text import TfidfVectorizer\n",
        "from nltk.corpus import stopwords\n",
        "stopwords.words('english')\n",
        "vectorizer = TfidfVectorizer (max_features=2500, min_df=7, max_df=0.8, stop_words=stopwords.words('english'))\n",
        "processed_features = vectorizer.fit_transform(processed_features).toarray() "
      ],
      "execution_count": 19,
      "outputs": []
    },
    {
      "cell_type": "markdown",
      "metadata": {
        "id": "CAC7g2dCkNZc"
      },
      "source": [
        "In the code above, we define it should be max_features = 2500, meaning it only uses 2500 most frequently occurring words to create a wordbag feature vector. Less frequent words are not very useful for classification."
      ]
    },
    {
      "cell_type": "markdown",
      "metadata": {
        "id": "qopHK0RVkbQV"
      },
      "source": [
        "Dividing Data into Training and Test Sets In the previous section, we converted the data into numerical form. As the last step before training our algorithms, we need to divide our data into training and test sets. The training set will be used to train the algorithm, while the test set will be used to evaluate the performance of the machine learning model."
      ]
    },
    {
      "cell_type": "code",
      "metadata": {
        "id": "RwYAjRrw8fYk"
      },
      "source": [
        "from sklearn.model_selection import train_test_split\n",
        "\n",
        "X_train ,X_test,y_train , y_test= train_test_split(processed_features, labels, test_size=0.2, random_state=0)"
      ],
      "execution_count": 20,
      "outputs": []
    },
    {
      "cell_type": "markdown",
      "metadata": {
        "id": "XGVsKfwyklVa"
      },
      "source": [
        "In the above code, we are using the class in sklearn.model_selection module for train_test_split to split our data into training and test set. The method takes the property set as the first parameter, the label set as the second parameter, and the parameter test_size. We set a value of 0.2 for this, test_sizeb which means our data set will be divided into two sets, 80% and 20% data. We will use 80% dataset for training and 20% dataset for testing."
      ]
    },
    {
      "cell_type": "markdown",
      "metadata": {
        "id": "B_0y-rPfHAnr"
      },
      "source": [
        "# **Training the Model**"
      ]
    },
    {
      "cell_type": "markdown",
      "metadata": {
        "id": "h2sfwfzXHeop"
      },
      "source": [
        ">When data is divided into training and test sets, machine learning algorithms can be used to learn from training data. You can use any machine learning algorithm. However, we will use the Random Forest algorithm because of its ability to act on non-normalized data.\n",
        "\n",
        ">The sklearn.ensembleModule contains the RandomForestClassifier class that can be used to train the machine learning model using the random forest algorithm. To do this, we need to call the RandomForestClassifiers method in the classroom and pass our training properties and tags as parameters to it. See the script below."
      ]
    },
    {
      "cell_type": "code",
      "metadata": {
        "id": "xOtKVgQU8qKD",
        "outputId": "6b78c816-7e00-4865-ccc8-0fc52216feb9",
        "colab": {
          "base_uri": "https://localhost:8080/",
          "height": 153
        }
      },
      "source": [
        "from sklearn.ensemble import RandomForestClassifier\n",
        "\n",
        "text_classifier = RandomForestClassifier(n_estimators=200, random_state=0)\n",
        "text_classifier.fit(X_train, y_train)"
      ],
      "execution_count": 21,
      "outputs": [
        {
          "output_type": "execute_result",
          "data": {
            "text/plain": [
              "RandomForestClassifier(bootstrap=True, ccp_alpha=0.0, class_weight=None,\n",
              "                       criterion='gini', max_depth=None, max_features='auto',\n",
              "                       max_leaf_nodes=None, max_samples=None,\n",
              "                       min_impurity_decrease=0.0, min_impurity_split=None,\n",
              "                       min_samples_leaf=1, min_samples_split=2,\n",
              "                       min_weight_fraction_leaf=0.0, n_estimators=200,\n",
              "                       n_jobs=None, oob_score=False, random_state=0, verbose=0,\n",
              "                       warm_start=False)"
            ]
          },
          "metadata": {
            "tags": []
          },
          "execution_count": 21
        }
      ]
    },
    {
      "cell_type": "markdown",
      "metadata": {
        "id": "OtQCVkBqIE8C"
      },
      "source": [
        "# **Predicting and Evaluating the Model**"
      ]
    },
    {
      "cell_type": "markdown",
      "metadata": {
        "id": "Acpr5qmkIOcE"
      },
      "source": [
        ">Once the model has been trained, the final step is to make predictions on the model. To do this we need to call the method RandomForestClassifier on the predict object of the class we are using for training. See the script below."
      ]
    },
    {
      "cell_type": "code",
      "metadata": {
        "id": "I8GKmE4f9F3c"
      },
      "source": [
        "model_predict = text_classifier.predict(X_test)"
      ],
      "execution_count": 22,
      "outputs": []
    },
    {
      "cell_type": "markdown",
      "metadata": {
        "id": "ECwbL_duIaG4"
      },
      "source": [
        ">Finally, using such Classification metrics, confusion Metrix to evaluate the performance of automatic learning models, F1 measure, accuracy, etc.\n"
      ]
    },
    {
      "cell_type": "markdown",
      "metadata": {
        "id": "2TOgY9jUIqHz"
      },
      "source": [
        ">To find the values for this, you can use the utilities from classification_report, confusion_matrix, and accuracy_score to sklearn.metrics in the library. See the script below:"
      ]
    },
    {
      "cell_type": "markdown",
      "metadata": {
        "id": "Cm_qUkNFk5Az"
      },
      "source": [
        "Finally, using such Classification metrics, to evaluate the performance of the automatic learning models, the accuracy of the confusion matrix, F1 measure, etc.\n",
        "\n",
        "To find the values for this, you can use the utilities from classification_report, confusion_matrix, and accuracy_score to sklearn.metrics in the library. See the script below:"
      ]
    },
    {
      "cell_type": "code",
      "metadata": {
        "id": "FQ0QAdSE9N8O",
        "outputId": "d3fce810-6de3-4a5e-ec46-440e2fe17223",
        "colab": {
          "base_uri": "https://localhost:8080/",
          "height": 221
        }
      },
      "source": [
        "from sklearn.metrics import classification_report, confusion_matrix, accuracy_score\n",
        "\n",
        "print(confusion_matrix(y_test,model_predict))\n",
        "print(classification_report(y_test,model_predict))\n",
        "print(accuracy_score(y_test, model_predict))"
      ],
      "execution_count": 23,
      "outputs": [
        {
          "output_type": "stream",
          "text": [
            "[[758   1]\n",
            " [ 19   0]]\n",
            "              precision    recall  f1-score   support\n",
            "\n",
            "       False       0.98      1.00      0.99       759\n",
            "        True       0.00      0.00      0.00        19\n",
            "\n",
            "    accuracy                           0.97       778\n",
            "   macro avg       0.49      0.50      0.49       778\n",
            "weighted avg       0.95      0.97      0.96       778\n",
            "\n",
            "0.974293059125964\n"
          ],
          "name": "stdout"
        }
      ]
    }
  ]
}